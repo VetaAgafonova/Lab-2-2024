{
  "nbformat": 4,
  "nbformat_minor": 0,
  "metadata": {
    "colab": {
      "provenance": []
    },
    "kernelspec": {
      "name": "python3",
      "display_name": "Python 3"
    },
    "language_info": {
      "name": "python"
    }
  },
  "cells": [
    {
      "cell_type": "code",
      "source": [
        "import numpy as np\n",
        "import pandas as pd\n",
        "import tensorflow as tf\n",
        "from sklearn.metrics import classification_report, confusion_matrix\n",
        "import os"
      ],
      "metadata": {
        "id": "Wq6jHduuCosV"
      },
      "execution_count": null,
      "outputs": []
    },
    {
      "cell_type": "code",
      "source": [
        "#Путь к обученной модели и данным\n",
        "model_path = '/content/trained_model.h5'\n",
        "data_dir = '/content'\n",
        "\n",
        "#Загрузка обученной модели\n",
        "model = tf.keras.models.load_model(model_path)\n",
        "\n",
        "X_test = pd.read_csv(os.path.join(data_dir, 'X_test.csv')).values\n",
        "y_test = pd.read_csv(os.path.join(data_dir, 'y_test.csv')).values.ravel()\n",
        "\n",
        "#Выполнение инференса на тестовых данных\n",
        "y_pred = (model.predict(X_test) > 0.5).astype(\"int32\")\n",
        "\n",
        "#Оценка модели: вывод метрик классификации\n",
        "print(\"Classification Report:\")\n",
        "print(classification_report(y_test, y_pred, target_names=['Class 0', 'Class 1', 'Class 2', 'Class 3']))\n",
        "\n",
        "print(\"\\nConfusion Matrix:\")\n",
        "print(confusion_matrix(y_test, y_pred))"
      ],
      "metadata": {
        "colab": {
          "base_uri": "https://localhost:8080/"
        },
        "id": "lDoou_k1DDw5",
        "outputId": "f58d4112-9f2f-44ea-c2fc-855bf4c1e44f"
      },
      "execution_count": null,
      "outputs": [
        {
          "output_type": "stream",
          "name": "stderr",
          "text": [
            "WARNING:absl:Compiled the loaded model, but the compiled metrics have yet to be built. `model.compile_metrics` will be empty until you train or evaluate the model.\n"
          ]
        },
        {
          "output_type": "stream",
          "name": "stdout",
          "text": [
            "\u001b[1m2/2\u001b[0m \u001b[32m━━━━━━━━━━━━━━━━━━━━\u001b[0m\u001b[37m\u001b[0m \u001b[1m0s\u001b[0m 30ms/step\n",
            "Classification Report:\n",
            "              precision    recall  f1-score   support\n",
            "\n",
            "     Class 0       0.02      1.00      0.04         1\n",
            "     Class 1       0.00      0.00      0.00        10\n",
            "     Class 2       0.00      0.00      0.00        34\n",
            "     Class 3       0.00      0.00      0.00        10\n",
            "\n",
            "    accuracy                           0.02        55\n",
            "   macro avg       0.00      0.25      0.01        55\n",
            "weighted avg       0.00      0.02      0.00        55\n",
            "\n",
            "\n",
            "Confusion Matrix:\n",
            "[[ 1  0  0  0]\n",
            " [10  0  0  0]\n",
            " [34  0  0  0]\n",
            " [10  0  0  0]]\n"
          ]
        },
        {
          "output_type": "stream",
          "name": "stderr",
          "text": [
            "/usr/local/lib/python3.10/dist-packages/sklearn/metrics/_classification.py:1531: UndefinedMetricWarning: Precision is ill-defined and being set to 0.0 in labels with no predicted samples. Use `zero_division` parameter to control this behavior.\n",
            "  _warn_prf(average, modifier, f\"{metric.capitalize()} is\", len(result))\n",
            "/usr/local/lib/python3.10/dist-packages/sklearn/metrics/_classification.py:1531: UndefinedMetricWarning: Precision is ill-defined and being set to 0.0 in labels with no predicted samples. Use `zero_division` parameter to control this behavior.\n",
            "  _warn_prf(average, modifier, f\"{metric.capitalize()} is\", len(result))\n",
            "/usr/local/lib/python3.10/dist-packages/sklearn/metrics/_classification.py:1531: UndefinedMetricWarning: Precision is ill-defined and being set to 0.0 in labels with no predicted samples. Use `zero_division` parameter to control this behavior.\n",
            "  _warn_prf(average, modifier, f\"{metric.capitalize()} is\", len(result))\n"
          ]
        }
      ]
    }
  ]
}